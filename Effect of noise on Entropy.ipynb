{
 "cells": [
  {
   "cell_type": "markdown",
   "metadata": {},
   "source": [
    "# This is an experiment to show how noise effects entropy"
   ]
  },
  {
   "cell_type": "markdown",
   "metadata": {},
   "source": [
    "## Intuition"
   ]
  },
  {
   "cell_type": "markdown",
   "metadata": {},
   "source": [
    "When we try to create a custom noise model (https://docs.quantum.ibm.com/guides/build-noise-models), we essentially add random gates (call it noisy gates), in front of existing gates in the quantum circuit. Let us assume that we are working on a quantum algorithm that is written correctly(i.e. there are no bugs), however while doing experiments on an actual quantum computer, we could actually get some wrong answers. This is due to noise.\n",
    "\n",
    "For simplicity, let us assume that the quantum algorithm we are working almost likely gives a single state as the answer after measurement in the absence of noise. However the nosie can have several effects. As we have seen in earlier modules that bugs can lead to any arbitrary state depending on the type of bug and how it is affecting the quantum system. Therefore, it is quite likely that instead of getting our desired answer, we deviate from the answer due to noisy gates. However, this deviation depends on the noise level (read the paper for definition). The higher the nosie level, the higher the deviation could be. Now, we claim that as noise level increases, the entropy also increases. This is because, with some probability, we are applying random gates. Thus this could be thought of as arbitratily changing our answer a certain number of times. We denote this probability of changing our answer as the noise level, and as long as this is in control, i.e. does not overshadow the actual answer, we would get our correct answers with higher probability, but the other states would also increase."
   ]
  },
  {
   "cell_type": "markdown",
   "metadata": {},
   "source": [
    "Thereotically, let us test our assumption out on the deutch josza algorithm for simplicity."
   ]
  },
  {
   "cell_type": "markdown",
   "metadata": {},
   "source": [
    "https://github.com/filipecorrea/deutsch-jozsa/blob/master/deutsch-jozsa-constant.ipynb"
   ]
  },
  {
   "cell_type": "markdown",
   "metadata": {},
   "source": [
    "## Experiments"
   ]
  },
  {
   "cell_type": "markdown",
   "metadata": {},
   "source": [
    "Now, we will conduct the experiments on the actual backend and fake noises provided by qiskit, which are taken at random timestamps from the actual quantum computer\n",
    "\n",
    "(https://docs.quantum.ibm.com/api/qiskit-ibm-runtime/fake-provider)"
   ]
  },
  {
   "cell_type": "code",
   "execution_count": 1,
   "metadata": {},
   "outputs": [],
   "source": [
    "from qiskit.circuit.random import random_circuit\n",
    "from qiskit_ibm_runtime import QiskitRuntimeService\n",
    "from qiskit_aer.noise import NoiseModel\n",
    "from qiskit_aer import AerSimulator\n",
    "from qiskit import transpile\n",
    "from qiskit.visualization import plot_histogram\n",
    "import matplotlib.pyplot as plt\n",
    "\n",
    "from math import log2\n",
    "import numpy as np"
   ]
  },
  {
   "cell_type": "code",
   "execution_count": 9,
   "metadata": {},
   "outputs": [],
   "source": [
    "# The following function calculates the entropy of the final measurement\n",
    "def calculate_entropy(output_map):\n",
    "    total_count = sum(output_map.values())\n",
    "    entropy = 0\n",
    "    for key, val in output_map.items():\n",
    "        if (val == 0):\n",
    "            continue\n",
    "        else:\n",
    "            p = val / total_count\n",
    "            entropy = entropy - p * log2(p)\n",
    "\n",
    "    return entropy"
   ]
  },
  {
   "cell_type": "code",
   "execution_count": 13,
   "metadata": {},
   "outputs": [
    {
     "name": "stdout",
     "output_type": "stream",
     "text": [
      "[<IBMBackend('ibm_brisbane')>, <IBMBackend('ibm_sherbrooke')>, <IBMBackend('ibm_kyiv')>]\n"
     ]
    }
   ],
   "source": [
    "from qiskit_ibm_runtime import QiskitRuntimeService\n",
    "\n",
    "# Let us list the services provided by the backend noises\n",
    "service = QiskitRuntimeService()\n",
    "print(service.backends())"
   ]
  },
  {
   "cell_type": "markdown",
   "metadata": {},
   "source": [
    "As per (https://arxiv.org/pdf/2307.16130), the average number of qubits used are 10.5 and the median is 6. Thus we will test on circuits of qubits 2-15 "
   ]
  },
  {
   "cell_type": "code",
   "execution_count": 7,
   "metadata": {},
   "outputs": [
    {
     "name": "stdout",
     "output_type": "stream",
     "text": [
      "Mean: 9.765\n",
      "Median: 6.0\n"
     ]
    }
   ],
   "source": [
    "import numpy as np\n",
    "\n",
    "# Define the desired mean and median of the lognormal distribution\n",
    "desired_mean = 10\n",
    "desired_median = 6.5\n",
    "\n",
    "# The median of a lognormal distribution is exp(mu), where mu is the mean of the underlying normal distribution.\n",
    "# So, we solve for mu: exp(mu) = desired_median\n",
    "mu = np.log(desired_median)\n",
    "\n",
    "# The mean of a lognormal distribution is exp(mu + sigma^2/2), where sigma is the standard deviation of the underlying normal distribution.\n",
    "# We solve for sigma: exp(mu + sigma^2/2) = desired_mean\n",
    "sigma_squared = 2 * np.log(desired_mean / desired_median)\n",
    "sigma = np.sqrt(sigma_squared)\n",
    "\n",
    "# Generate numbers from the lognormal distribution\n",
    "qubits = np.random.lognormal(mean=mu, sigma=sigma, size=1000)\n",
    "\n",
    "# Randomly decide whether to round up or down for each number\n",
    "round_choices = np.random.choice([0, 1], size=len(qubits))  # 0 for floor, 1 for ceil\n",
    "\n",
    "# Apply the rounding\n",
    "qubits = np.where(round_choices == 0, np.floor(qubits), np.ceil(qubits))\n",
    "\n",
    "# Ensure natural numbers\n",
    "qubits = np.maximum(qubits, 1).astype(int)\n",
    "\n",
    "# Check the mean and median of the generated numbers\n",
    "print(\"Mean:\", np.mean(qubits))\n",
    "print(\"Median:\", np.median(qubits))\n"
   ]
  },
  {
   "cell_type": "markdown",
   "metadata": {},
   "source": [
    "This seems to be a suitable distribution for the qubits"
   ]
  },
  {
   "cell_type": "code",
   "execution_count": 73,
   "metadata": {},
   "outputs": [],
   "source": [
    "# Initialize the QiskitRuntimeService and get a backend\n",
    "service = QiskitRuntimeService()\n",
    "\n",
    "counter = 0\n",
    "failed_result = []\n",
    "\n",
    "for back in [\"ibm_brisbane\",\"ibm_kyiv\",\"ibm_sherbrooke\"]:\n",
    "    backend = service.backend(back)\n",
    "\n",
    "    # Get the maximum number of qubits supported by the backend\n",
    "    max_qubits = 12\n",
    "\n",
    "    # Generate noise model from the backend\n",
    "    noise_model = NoiseModel.from_backend(backend)\n",
    "    for _ in range(1000):\n",
    "        # Generate a random number of qubits using a lognormal distribution\n",
    "        while True:\n",
    "            qubits = np.random.lognormal(mean=mu, sigma=sigma)\n",
    "            \n",
    "            # Randomly decide whether to round up or down\n",
    "            round_choice = np.random.choice([0, 1])  # 0 for floor, 1 for ceil\n",
    "            \n",
    "            if round_choice == 0:\n",
    "                qubits = np.floor(qubits)\n",
    "            else:\n",
    "                qubits = np.ceil(qubits)\n",
    "\n",
    "            if qubits >= 1 and qubits <= max_qubits:\n",
    "                break\n",
    "        \n",
    "        # Convert to integer (already done by floor or ceil)\n",
    "        qubits = int(qubits)\n",
    "\n",
    "        #most experiments use shallow circuits\n",
    "        max_depth = 5  # Maximum depth\n",
    "        depth = np.random.randint(1, max_depth + 1)  # Random depth between 1 and max_depth\n",
    "\n",
    "        circ = random_circuit(qubits, depth, measure=True)\n",
    "        \n",
    "        # Create simulators\n",
    "        ideal_simulator = AerSimulator()\n",
    "        noisy_simulator = AerSimulator(noise_model=noise_model)\n",
    "\n",
    "        # Transpile the circuit for both simulators\n",
    "        circ_ideal = transpile(circ, ideal_simulator)\n",
    "        circ_noisy = transpile(circ, noisy_simulator)\n",
    "\n",
    "        # Run ideal simulation\n",
    "        ideal_result = ideal_simulator.run(circ_ideal, shots=100000).result()\n",
    "        ideal_dist = ideal_result.get_counts()\n",
    "\n",
    "        # Run noisy simulation\n",
    "        noisy_result = noisy_simulator.run(circ_noisy, shots=100000).result()\n",
    "        noisy_dist = noisy_result.get_counts()\n",
    "\n",
    "        entropy_ideal = calculate_entropy(ideal_dist)\n",
    "        entropy_noisy = calculate_entropy(noisy_dist)\n",
    "\n",
    "        if(entropy_ideal < entropy_noisy):\n",
    "            counter += 1\n",
    "        else:\n",
    "            failed_result.append(circ)"
   ]
  },
  {
   "cell_type": "code",
   "execution_count": 74,
   "metadata": {},
   "outputs": [
    {
     "name": "stdout",
     "output_type": "stream",
     "text": [
      "2955\n"
     ]
    }
   ],
   "source": [
    "print(counter)"
   ]
  },
  {
   "cell_type": "code",
   "execution_count": 75,
   "metadata": {},
   "outputs": [
    {
     "name": "stdout",
     "output_type": "stream",
     "text": [
      "[<qiskit.circuit.quantumcircuit.QuantumCircuit object at 0x14cd5d730>, <qiskit.circuit.quantumcircuit.QuantumCircuit object at 0x144462900>, <qiskit.circuit.quantumcircuit.QuantumCircuit object at 0x1457cabd0>, <qiskit.circuit.quantumcircuit.QuantumCircuit object at 0x1476cea50>, <qiskit.circuit.quantumcircuit.QuantumCircuit object at 0x1474c4200>, <qiskit.circuit.quantumcircuit.QuantumCircuit object at 0x14e1f1bb0>, <qiskit.circuit.quantumcircuit.QuantumCircuit object at 0x1533d62a0>, <qiskit.circuit.quantumcircuit.QuantumCircuit object at 0x148846c60>, <qiskit.circuit.quantumcircuit.QuantumCircuit object at 0x156b92cf0>, <qiskit.circuit.quantumcircuit.QuantumCircuit object at 0x14b3031d0>, <qiskit.circuit.quantumcircuit.QuantumCircuit object at 0x1476a3260>, <qiskit.circuit.quantumcircuit.QuantumCircuit object at 0x148c9ec30>, <qiskit.circuit.quantumcircuit.QuantumCircuit object at 0x14dea3950>, <qiskit.circuit.quantumcircuit.QuantumCircuit object at 0x14de80800>, <qiskit.circuit.quantumcircuit.QuantumCircuit object at 0x1430c4260>, <qiskit.circuit.quantumcircuit.QuantumCircuit object at 0x14dc0fbc0>, <qiskit.circuit.quantumcircuit.QuantumCircuit object at 0x143f65bb0>, <qiskit.circuit.quantumcircuit.QuantumCircuit object at 0x14be177d0>, <qiskit.circuit.quantumcircuit.QuantumCircuit object at 0x14ed395b0>, <qiskit.circuit.quantumcircuit.QuantumCircuit object at 0x14b3c7f80>, <qiskit.circuit.quantumcircuit.QuantumCircuit object at 0x14bca0950>, <qiskit.circuit.quantumcircuit.QuantumCircuit object at 0x14a32ce90>, <qiskit.circuit.quantumcircuit.QuantumCircuit object at 0x146e1b290>, <qiskit.circuit.quantumcircuit.QuantumCircuit object at 0x14c63f8c0>, <qiskit.circuit.quantumcircuit.QuantumCircuit object at 0x149d991f0>, <qiskit.circuit.quantumcircuit.QuantumCircuit object at 0x14dea32c0>, <qiskit.circuit.quantumcircuit.QuantumCircuit object at 0x151e50e00>, <qiskit.circuit.quantumcircuit.QuantumCircuit object at 0x143f7c0b0>, <qiskit.circuit.quantumcircuit.QuantumCircuit object at 0x141e73890>, <qiskit.circuit.quantumcircuit.QuantumCircuit object at 0x1532e32c0>, <qiskit.circuit.quantumcircuit.QuantumCircuit object at 0x153c43470>, <qiskit.circuit.quantumcircuit.QuantumCircuit object at 0x1436f2030>, <qiskit.circuit.quantumcircuit.QuantumCircuit object at 0x154591490>, <qiskit.circuit.quantumcircuit.QuantumCircuit object at 0x153c93bf0>, <qiskit.circuit.quantumcircuit.QuantumCircuit object at 0x14779a390>, <qiskit.circuit.quantumcircuit.QuantumCircuit object at 0x1526983e0>, <qiskit.circuit.quantumcircuit.QuantumCircuit object at 0x14fd74dd0>, <qiskit.circuit.quantumcircuit.QuantumCircuit object at 0x14c2fbcb0>, <qiskit.circuit.quantumcircuit.QuantumCircuit object at 0x14db66cf0>, <qiskit.circuit.quantumcircuit.QuantumCircuit object at 0x155084d10>, <qiskit.circuit.quantumcircuit.QuantumCircuit object at 0x14b9f2150>, <qiskit.circuit.quantumcircuit.QuantumCircuit object at 0x15183a540>, <qiskit.circuit.quantumcircuit.QuantumCircuit object at 0x15227b710>, <qiskit.circuit.quantumcircuit.QuantumCircuit object at 0x143ce1670>, <qiskit.circuit.quantumcircuit.QuantumCircuit object at 0x1550c86e0>]\n"
     ]
    }
   ],
   "source": [
    "print(failed_result)"
   ]
  },
  {
   "cell_type": "code",
   "execution_count": 95,
   "metadata": {},
   "outputs": [
    {
     "name": "stdout",
     "output_type": "stream",
     "text": [
      "1 0.9999992197903813 0.999999998845844\n",
      "1 0.999994099657778 0.9999999766283403\n",
      "2 1.9999913752250253 1.999988393791945\n",
      "1 0.9999987431237154 0.9999935078625779\n",
      "1 0.9999999815335034 0.9999988181438999\n",
      "1 0.9997835976193413 0.9998134757298531\n",
      "1 0.9999974504678217 0.999998780922347\n",
      "1 0.9999998727542936 0.9999908579107541\n",
      "1 0.9999583345661145 0.9999996664488808\n",
      "1 0.9998858391270395 0.9998573967267026\n",
      "1 0.9999988908557684 0.9999996260534132\n",
      "1 0.9999948960274653 0.9999890282764006\n",
      "1 0.932567754321556 0.9403852523390679\n",
      "2 1.999974684860285 1.999957001765385\n",
      "1 0.9999823964520513 0.9999999953833759\n",
      "1 0.9999925207674445 0.999999998845844\n",
      "1 0.999995198417038 0.9999883427041328\n",
      "1 0.982386994675469 0.9837431316611227\n",
      "1 0.9401817287681336 0.9421756782293063\n",
      "1 0.9607772548961896 0.9644307221698463\n",
      "1 0.9999994157084295 0.9999522032739943\n",
      "1 0.9999997403148772 0.9999951236852679\n",
      "1 0.9999999166122251 0.9999813845372816\n",
      "1 0.9380142081549718 0.9429733320303645\n",
      "1 0.9999713695275212 0.9999998049476218\n",
      "1 0.9999877555240084 0.9999572308828768\n",
      "1 0.999999998845844 0.9999987047480047\n",
      "1 0.999999971146099 0.9999954915733009\n",
      "1 0.9999997573386805 0.9999998049476218\n",
      "1 0.9999999166122251 0.9999963156422682\n",
      "1 0.999999833801525 0.9999857795967982\n",
      "2 1.9999927734702285 1.999984393642781\n",
      "1 0.9959060206337238 0.9957743667529326\n",
      "1 0.9999943446280501 0.999990124729913\n",
      "1 0.9999994157084295 0.9999674248549566\n",
      "1 0.9986645753341119 0.9985697946150572\n",
      "1 0.9967999744927256 0.9965609397291452\n",
      "1 0.9999948960274653 0.9999985042132645\n",
      "1 0.9999803443449592 0.9999840653746072\n",
      "1 0.9999902312012903 0.9999491011203768\n",
      "1 0.9999981992273008 0.9999969980380767\n",
      "1 0.999997816047145 0.9999949724904815\n",
      "1 0.9999999650867797 0.9999443917593338\n",
      "1 0.9999998603471156 0.9999993626172371\n",
      "1 0.9814632071206271 0.9839515525470539\n"
     ]
    }
   ],
   "source": [
    "for result in failed_result:\n",
    "    qc = result\n",
    "    num_qubits = qc.num_qubits\n",
    "\n",
    "    circ_ideal = transpile(qc, ideal_simulator)\n",
    "    circ_noisy = transpile(qc, noisy_simulator)\n",
    "\n",
    "    # Run ideal simulation\n",
    "    ideal_result = ideal_simulator.run(circ_ideal, shots=100000).result()\n",
    "    ideal_dist = ideal_result.get_counts()\n",
    "\n",
    "    # Run noisy simulation\n",
    "    noisy_result = noisy_simulator.run(circ_noisy, shots=100000).result()\n",
    "    noisy_dist = noisy_result.get_counts()\n",
    "\n",
    "    entropy_ideal = calculate_entropy(ideal_dist)\n",
    "    entropy_noisy = calculate_entropy(noisy_dist)\n",
    "    print(num_qubits, entropy_ideal, entropy_noisy)"
   ]
  },
  {
   "cell_type": "code",
   "execution_count": 97,
   "metadata": {},
   "outputs": [
    {
     "data": {
      "image/png": "[encoded data removed]",
      "text/plain": [
       "<Figure size 640x480 with 1 Axes>"
      ]
     },
     "execution_count": 97,
     "metadata": {},
     "output_type": "execute_result"
    }
   ],
   "source": [
    "plot_histogram(ideal_dist)"
   ]
  },
  {
   "cell_type": "code",
   "execution_count": 98,
   "metadata": {},
   "outputs": [
    {
     "data": {
      "image/png": "[encoded data removed]",
      "text/plain": [
       "<Figure size 640x480 with 1 Axes>"
      ]
     },
     "execution_count": 98,
     "metadata": {},
     "output_type": "execute_result"
    }
   ],
   "source": [
    "plot_histogram(noisy_dist)"
   ]
  },
  {
   "cell_type": "code",
   "execution_count": null,
   "metadata": {},
   "outputs": [],
   "source": [
    "# from qiskit_ibm_runtime.fake_provider import FakeBrisbaneV2, FakeKyivV2, FakeSherbrookeV2\n",
    "from qiskit_ibm_runtime.fake_provider import FakeAlgiers, FakeAlmadenV2, FakeArmonkV2, FakeAthensV2, FakeAuckland, FakeBelemV2, FakeBoeblingenV2, FakeBogotaV2, FakeBrisbane, FakeBrooklynV2, FakeBurlingtonV2, FakeCairoV2, FakeCambridgeV2, FakeCasablancaV2, FakeCusco, FakeEssexV2, FakeGeneva, FakeGuadalupeV2, FakeHanoiV2, FakeJakartaV2, FakeJohannesburgV2, FakeKawasaki, FakeKolkataV2, FakeKyiv, FakeKyoto, FakeLagosV2, FakeLimaV2, FakeLondonV2, FakeManhattanV2, FakeManilaV2, FakeMelbourneV2, FakeMontrealV2, FakeMumbaiV2, FakeNairobiV2, FakeOsaka, FakeOslo, FakeOurenseV2, FakeParisV2, FakePeekskill, FakePerth, FakePrague, FakePoughkeepsieV2, FakeQuebec, FakeQuitoV2, FakeRochesterV2, FakeRomeV2, FakeSantiagoV2, FakeSherbrooke, FakeSingaporeV2, FakeSydneyV2, FakeTorino, FakeTorontoV2, FakeValenciaV2, FakeVigoV2, FakeWashingtonV2, FakeYorktownV2\n",
    "from qiskit_aer import AerSimulator\n",
    "from qiskit_aer.noise import NoiseModel\n",
    "\n",
    "counter = 0\n",
    "failed_result = []\n",
    "\n",
    "max_qubits_dict = {\n",
    "    'FakeAlgiers': 27,\n",
    "    'FakeAlmadenV2': 53,  # Adjusted based on typical backend sizes\n",
    "    'FakeArmonkV2': 1,\n",
    "    'FakeAthensV2': 5,\n",
    "    'FakeBelemV2': 5,\n",
    "    'FakeBoeblingenV2': 53,  # Adjusted based on typical backend sizes\n",
    "    'FakeBogotaV2': 5,\n",
    "    'FakeAuckland': 27,\n",
    "    'FakeBrisbane': 127,\n",
    "    'FakeBrooklynV2': 53,  # Adjusted based on typical backend sizes\n",
    "    'FakeBurlingtonV2': 5,\n",
    "    'FakeCairoV2': 27,\n",
    "    'FakeCambridgeV2': 53,  # Adjusted based on typical backend sizes\n",
    "    'FakeCasablancaV2': 7,\n",
    "    'FakeCusco': 127,\n",
    "    'FakeEssexV2': 5,\n",
    "    'FakeFez': 156,\n",
    "    'FakeGeneva': 27,\n",
    "    'FakeGuadalupeV2': 16,\n",
    "    'FakeHanoiV2': 27,\n",
    "    'FakeJakartaV2': 7,\n",
    "    'FakeJohannesburgV2': 53,  # Adjusted based on typical backend sizes\n",
    "    'FakeKawasaki': 127,\n",
    "    'FakeKolkataV2': 27,\n",
    "    'FakeKyiv': 127,\n",
    "    'FakeKyoto': 127,\n",
    "    'FakeLagosV2': 7,\n",
    "    'FakeLimaV2': 5,\n",
    "    'FakeFractionalBackend': 5,\n",
    "    'FakeLondonV2': 5,\n",
    "    'FakeManhattanV2': 53,  # Adjusted based on typical backend sizes\n",
    "    'FakeManilaV2': 5,\n",
    "    'FakeMarrakesh': 156,\n",
    "    'FakeMelbourneV2': 14,\n",
    "    'FakeMontrealV2': 27,\n",
    "    'FakeMumbaiV2': 27,\n",
    "    'FakeNairobiV2': 7,\n",
    "    'FakeOsaka': 127,\n",
    "    'FakeOslo': 7,\n",
    "    'FakeOurenseV2': 5,\n",
    "    'FakeParisV2': 53,  # Adjusted based on typical backend sizes\n",
    "    'FakePeekskill': 27,\n",
    "    'FakePerth': 7,\n",
    "    'FakePrague': 33,\n",
    "    'FakePoughkeepsieV2': 53,  # Adjusted based on typical backend sizes\n",
    "    'FakeQuebec': 127,\n",
    "    'FakeQuitoV2': 5,\n",
    "    'FakeRochesterV2': 53,  # Adjusted based on typical backend sizes\n",
    "    'FakeRomeV2': 5,\n",
    "    'FakeSantiagoV2': 53,  # Adjusted based on typical backend sizes\n",
    "    'FakeSherbrooke': 127,\n",
    "    'FakeSingaporeV2': 53,  # Adjusted based on typical backend sizes\n",
    "    'FakeSydneyV2': 27,\n",
    "    'FakeTorino': 133,\n",
    "    'FakeTorontoV2': 27,\n",
    "    'FakeValenciaV2': 5,\n",
    "    'FakeVigoV2': 5,\n",
    "    'FakeWashingtonV2': 127,\n",
    "    'FakeYorktownV2': 5,\n",
    "}\n",
    "\n",
    "fake_backends = [FakeAlgiers(), FakeAlmadenV2(), FakeArmonkV2(), FakeAthensV2(), FakeBelemV2(), FakeBoeblingenV2(), FakeBogotaV2(), FakeAuckland(), FakeBrisbane(), FakeBrooklynV2(), FakeBurlingtonV2(), FakeCairoV2(), FakeCambridgeV2(), FakeCasablancaV2(), FakeCusco(), FakeEssexV2(), FakeGeneva(), FakeGuadalupeV2(), FakeHanoiV2(), FakeJakartaV2(), FakeJohannesburgV2(),  FakeKawasaki(), FakeKolkataV2(), FakeKyiv(), FakeKyoto(), FakeLagosV2(), FakeLimaV2(), FakeLondonV2(), FakeManhattanV2(), FakeManilaV2(), FakeMelbourneV2(), FakeMontrealV2(), FakeMumbaiV2(), FakeNairobiV2(), FakeOsaka(), FakeOslo(), FakeOurenseV2(), FakeParisV2(), FakePeekskill(), FakePerth(), FakePrague(), FakePoughkeepsieV2(), FakeQuebec(), FakeQuitoV2(), FakeRochesterV2(), FakeRomeV2(), FakeSantiagoV2(), FakeSherbrooke(), FakeSingaporeV2(), FakeSydneyV2(), FakeTorino(), FakeTorontoV2(), FakeValenciaV2(), FakeVigoV2(), FakeWashingtonV2(), FakeYorktownV2()]\n",
    "\n",
    "for fake_backend in fake_backends:\n",
    "    # Generate noise model from the fake backend\n",
    "    noise_model = NoiseModel.from_backend(fake_backend)\n",
    "\n",
    "    backend_name = type(fake_backend).__name__\n",
    "    max_qubits = min(max_qubits_dict[backend_name], 12) \n",
    "\n",
    "    # max_qubits = min(fake_backend.configuration().n_qubits, 12)\n",
    "    max_qubits = min(max_qubits, 12)\n",
    "\n",
    "    \n",
    "    for _ in range(10):\n",
    "        #most experiments use shallow circuits\n",
    "        max_depth = 5  # Maximum depth\n",
    "        depth = np.random.randint(1, max_depth + 1)  # Random depth between 1 and max_depth\n",
    "\n",
    "        # Ensure that we have sufficient qubits\n",
    "        if max_qubits >= 10:\n",
    "            while True:\n",
    "                qubits = np.random.lognormal(mean=mu, sigma=sigma)\n",
    "                \n",
    "                # Randomly decide whether to round up or down\n",
    "                round_choice = np.random.choice([0, 1])  # 0 for floor, 1 for ceil\n",
    "                \n",
    "                if round_choice == 0:\n",
    "                    qubits = np.floor(qubits)\n",
    "                else:\n",
    "                    qubits = np.ceil(qubits)\n",
    "\n",
    "                if qubits >= 1 and qubits <= max_qubits:\n",
    "                    break\n",
    "        else:\n",
    "            qubits = np.random.randint(1, max_qubits+1)\n",
    "        \n",
    "        # Convert to integer (already done by floor or ceil)\n",
    "        qubits = int(qubits)\n",
    "\n",
    "        circ = random_circuit(qubits, depth, measure=True)\n",
    "        \n",
    "        # Create simulators\n",
    "        ideal_simulator = AerSimulator()\n",
    "        noisy_simulator = AerSimulator(noise_model=noise_model)\n",
    "\n",
    "        # Transpile the circuit for both simulators\n",
    "        circ_ideal = transpile(circ, ideal_simulator)\n",
    "        circ_noisy = transpile(circ, noisy_simulator)\n",
    "\n",
    "        # Run ideal simulation\n",
    "        ideal_result = ideal_simulator.run(circ_ideal, shots=100000).result()\n",
    "        ideal_dist = ideal_result.get_counts()\n",
    "\n",
    "        # Run noisy simulation\n",
    "        noisy_result = noisy_simulator.run(circ_noisy, shots=100000).result()\n",
    "        noisy_dist = noisy_result.get_counts()\n",
    "\n",
    "        entropy_ideal = calculate_entropy(ideal_dist)\n",
    "        entropy_noisy = calculate_entropy(noisy_dist)\n",
    "\n",
    "        if entropy_ideal < entropy_noisy:\n",
    "            counter += 1\n",
    "        else:\n",
    "            failed_result.append(circ)\n"
   ]
  },
  {
   "cell_type": "code",
   "execution_count": 11,
   "metadata": {},
   "outputs": [
    {
     "name": "stdout",
     "output_type": "stream",
     "text": [
      "545\n"
     ]
    }
   ],
   "source": [
    "print(counter)"
   ]
  },
  {
   "cell_type": "code",
   "execution_count": 12,
   "metadata": {},
   "outputs": [
    {
     "name": "stdout",
     "output_type": "stream",
     "text": [
      "[<qiskit.circuit.quantumcircuit.QuantumCircuit object at 0x3027d4320>, <qiskit.circuit.quantumcircuit.QuantumCircuit object at 0x30368db20>, <qiskit.circuit.quantumcircuit.QuantumCircuit object at 0x3028a7590>, <qiskit.circuit.quantumcircuit.QuantumCircuit object at 0x17f70b8c0>, <qiskit.circuit.quantumcircuit.QuantumCircuit object at 0x30e9fc0b0>, <qiskit.circuit.quantumcircuit.QuantumCircuit object at 0x314f19460>, <qiskit.circuit.quantumcircuit.QuantumCircuit object at 0x316d999a0>, <qiskit.circuit.quantumcircuit.QuantumCircuit object at 0x30f0fc560>, <qiskit.circuit.quantumcircuit.QuantumCircuit object at 0x311486570>, <qiskit.circuit.quantumcircuit.QuantumCircuit object at 0x316cee930>, <qiskit.circuit.quantumcircuit.QuantumCircuit object at 0x314c77dd0>, <qiskit.circuit.quantumcircuit.QuantumCircuit object at 0x311a92d20>, <qiskit.circuit.quantumcircuit.QuantumCircuit object at 0x314a5fb00>, <qiskit.circuit.quantumcircuit.QuantumCircuit object at 0x316637320>, <qiskit.circuit.quantumcircuit.QuantumCircuit object at 0x31860e630>]\n"
     ]
    }
   ],
   "source": [
    "print(failed_result)"
   ]
  },
  {
   "cell_type": "code",
   "execution_count": 13,
   "metadata": {},
   "outputs": [
    {
     "name": "stdout",
     "output_type": "stream",
     "text": [
      "1 0.9999862874287302 0.9999969980380767\n",
      "1 0.9999578948241548 0.9999932455798166\n",
      "1 0.9999907549018907 0.9999985042132645\n",
      "1 0.9999878741142085 0.9999695228526493\n",
      "1 0.9999986657952149 0.9999997573386805\n",
      "1 0.9967147600576339 0.9972717373384966\n",
      "1 0.9999999166122251 0.9999994664913081\n",
      "3 2.999605112613056 2.9993624288850076\n",
      "1 0.9999990951414812 0.9999923337935128\n",
      "1 0.9999261223654499 0.9997423121094946\n",
      "1 0.9999956346889425 0.9999877555240084\n",
      "1 0.9999945844045791 0.9999980598628393\n",
      "1 0.9999859074204152 0.9999886880871585\n",
      "3 2.9999069283152906 2.9998921579846156\n",
      "1 0.9999965086751847 0.9999939334588499\n"
     ]
    }
   ],
   "source": [
    "for result in failed_result:\n",
    "    qc = result\n",
    "    num_qubits = qc.num_qubits\n",
    "\n",
    "    circ_ideal = transpile(qc, ideal_simulator)\n",
    "    circ_noisy = transpile(qc, noisy_simulator)\n",
    "\n",
    "    # Run ideal simulation\n",
    "    ideal_result = ideal_simulator.run(circ_ideal, shots=100000).result()\n",
    "    ideal_dist = ideal_result.get_counts()\n",
    "\n",
    "    # Run noisy simulation\n",
    "    noisy_result = noisy_simulator.run(circ_noisy, shots=100000).result()\n",
    "    noisy_dist = noisy_result.get_counts()\n",
    "\n",
    "    entropy_ideal = calculate_entropy(ideal_dist)\n",
    "    entropy_noisy = calculate_entropy(noisy_dist)\n",
    "    print(num_qubits, entropy_ideal, entropy_noisy)"
   ]
  },
  {
   "cell_type": "markdown",
   "metadata": {},
   "source": [
    "Note that in the above experiments we see that the entropy does not increases in cases where the entropy is already close to the maximum. We have shown in the paper that the maximum entropy is equal to the number of qubits used in the experiment. And also, we have mentioned that such states whose desired states are all the possible outcomes of measurements are not of much use in practise and are not considered in our experiments."
   ]
  }
 ],
 "metadata": {
  "kernelspec": {
   "display_name": "cwq",
   "language": "python",
   "name": "python3"
  },
  "language_info": {
   "codemirror_mode": {
    "name": "ipython",
    "version": 3
   },
   "file_extension": ".py",
   "mimetype": "text/x-python",
   "name": "python",
   "nbconvert_exporter": "python",
   "pygments_lexer": "ipython3",
   "version": "3.12.3"
  }
 },
 "nbformat": 4,
 "nbformat_minor": 2
}

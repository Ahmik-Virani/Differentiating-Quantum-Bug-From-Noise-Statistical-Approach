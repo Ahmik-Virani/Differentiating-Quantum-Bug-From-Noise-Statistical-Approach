{
 "cells": [
  {
   "cell_type": "markdown",
   "metadata": {},
   "source": [
    "Probability density curves are in \"**Distributions**\"\n",
    "\n",
    "Run this to create testcases, mutants and distributions of your own\n",
    "\n",
    "#### **NOTE:** \n",
    "* If creating new testcases and their mutants, make sure to name the new testcases differently from the already existing testcases.\n",
    "* In _muskit\\functionalities.py_ line 160, change the variable *_venv\\_python_* to the path of your virtual environment containing the qiskit modules.\n"
   ]
  },
  {
   "cell_type": "code",
   "execution_count": null,
   "metadata": {},
   "outputs": [],
   "source": [
    "import random\n",
    "import math\n",
    "import os\n",
    "import subprocess\n",
    "from tqdm import tqdm\n",
    "import matplotlib.pyplot as plt\n",
    "import numpy as np\n",
    "from scipy import stats"
   ]
  },
  {
   "cell_type": "code",
   "execution_count": 2,
   "metadata": {},
   "outputs": [],
   "source": [
    "\n",
    "def generate_random_qiskit_circuit(num_qubits, num_operations, filename):\n",
    "    code = f\"\"\"import math\n",
    "from qiskit import *\n",
    "\n",
    "q = QuantumRegister({num_qubits}, 'q')\n",
    "c = ClassicalRegister({num_qubits}, 'c')\n",
    "qc = QuantumCircuit(q, c)\n",
    "\n",
    "\"\"\"\n",
    "    \n",
    "    gates = [\"x\", \"h\", \"p\", \"t\", \"s\", \"z\", \"y\", \"id\", \"rx\", \"ry\", \"rz\", \"sx\", \"swap\", \"rzz\", \"rxx\", \"cx\", \"cz\", \"ccx\", \"cswap\"]\n",
    "    \n",
    "    for _ in range(num_operations):\n",
    "        gate = random.choice(gates)\n",
    "        \n",
    "        if gate in ['x', 'h', 't', 's', 'z', 'y', 'id', 'sx']:\n",
    "            qubit = random.randint(0, num_qubits - 1)\n",
    "            code += f\"qc.{gate}(q[{qubit}])\\n\"\n",
    "        elif gate in ['p', 'rx', 'ry', 'rz']:\n",
    "            qubit = random.randint(0, num_qubits - 1)\n",
    "            angle = random.uniform(0, 2*math.pi)\n",
    "            code += f\"qc.{gate}(math.pi/{int(2*math.pi/angle)}, q[{qubit}])\\n\"\n",
    "        elif gate in ['cx', 'cz', 'swap']:\n",
    "            control = random.randint(0, num_qubits - 1)\n",
    "            target = random.randint(0, num_qubits - 1)\n",
    "            while target == control:\n",
    "                target = random.randint(0, num_qubits - 1)\n",
    "            code += f\"qc.{gate}(q[{control}], q[{target}])\\n\"\n",
    "        elif gate in ['rzz', 'rxx']:\n",
    "            qubit1 = random.randint(0, num_qubits - 1)\n",
    "            qubit2 = random.randint(0, num_qubits - 1)\n",
    "            while qubit2 == qubit1:\n",
    "                qubit2 = random.randint(0, num_qubits - 1)\n",
    "            angle = random.uniform(0, 2*math.pi)\n",
    "            code += f\"qc.{gate}(math.pi/{int(2*math.pi/angle)}, q[{qubit1}], q[{qubit2}])\\n\"\n",
    "        elif gate == 'ccx':\n",
    "            control1 = random.randint(0, num_qubits - 1)\n",
    "            control2 = random.randint(0, num_qubits - 1)\n",
    "            target = random.randint(0, num_qubits - 1)\n",
    "            while control2 == control1 or target == control1 or target == control2:\n",
    "                control2 = random.randint(0, num_qubits - 1)\n",
    "                target = random.randint(0, num_qubits - 1)\n",
    "            code += f\"qc.{gate}(q[{control1}], q[{control2}], q[{target}])\\n\"\n",
    "        elif gate == 'cswap':\n",
    "            control = random.randint(0, num_qubits - 1)\n",
    "            target1 = random.randint(0, num_qubits - 1)\n",
    "            target2 = random.randint(0, num_qubits - 1)\n",
    "            while target1 == control or target2 == control or target1 == target2:\n",
    "                target1 = random.randint(0, num_qubits - 1)\n",
    "                target2 = random.randint(0, num_qubits - 1)\n",
    "            code += f\"qc.{gate}(q[{control}], q[{target1}], q[{target2}])\\n\"\n",
    "    \n",
    "    with open(filename, 'w') as f:\n",
    "        f.write(code)"
   ]
  },
  {
   "cell_type": "markdown",
   "metadata": {},
   "source": [
    "### Generate random circuits in \"Testcases\" directory"
   ]
  },
  {
   "cell_type": "code",
   "execution_count": 3,
   "metadata": {},
   "outputs": [],
   "source": [
    "os.makedirs(\"Testcases\", exist_ok=True)\n",
    "os.makedirs(\"Testcases\\\\deep\", exist_ok=True)     # deep circuits\n",
    "os.makedirs(\"Testcases\\\\shallow\", exist_ok=True)  # shallow circuits\n",
    "\n",
    "for i in range(10):\n",
    "    generate_random_qiskit_circuit(3,25, f'Testcases\\\\deep\\\\deep_{i}.py')       #depth = 25\n",
    "    generate_random_qiskit_circuit(3,5, f'Testcases\\\\shallow\\\\shallow_{i}.py')  # dpeth = 5"
   ]
  },
  {
   "cell_type": "markdown",
   "metadata": {},
   "source": [
    "### Calculate Entropies without bugs and store in \"Entropies\" directory"
   ]
  },
  {
   "cell_type": "code",
   "execution_count": null,
   "metadata": {},
   "outputs": [
    {
     "data": {
      "text/plain": [
       "0"
      ]
     },
     "execution_count": 4,
     "metadata": {},
     "output_type": "execute_result"
    }
   ],
   "source": [
    "# for shallow\n",
    "os.makedirs(r\"Entropies\\shallow\", exist_ok=True)\n",
    "\n",
    "testcases = r\"Testcases\\shallow\"\n",
    "config = r\"muskit\\executorConfig.py\"\n",
    "inputs = r\"muskit\\testcases.py\"\n",
    "savePath = r\"Entropies\\shallow\\shallow.txt\"\n",
    "\n",
    "try:\n",
    "    process = subprocess.Popen(\n",
    "    [\n",
    "        \"python\",\n",
    "        \"-m\", \"muskit.ComandMain\",\n",
    "        \"Execute\",\n",
    "        config,\n",
    "        inputs,\n",
    "        testcases,\n",
    "        savePath\n",
    "    ], stdout=subprocess.PIPE, stderr=subprocess.PIPE, text=True)\n",
    "    stdout, stderr = process.communicate()\n",
    "    if stderr:\n",
    "        print(\"Errors:\", stderr)\n",
    "except Exception as e:\n",
    "    print(f\"Error: {e}\")"
   ]
  },
  {
   "cell_type": "code",
   "execution_count": null,
   "metadata": {},
   "outputs": [
    {
     "data": {
      "text/plain": [
       "0"
      ]
     },
     "execution_count": 5,
     "metadata": {},
     "output_type": "execute_result"
    }
   ],
   "source": [
    "# for deep\n",
    "\n",
    "os.makedirs(r\"Entropies\\deep\", exist_ok=True)\n",
    "testcases = r\"Testcases\\deep\"\n",
    "config = r\"muskit\\executorConfig.py\"\n",
    "inputs = r\"muskit\\testcases.py\"\n",
    "savePath = r\"Entropies\\deep\\deep.txt\"\n",
    "\n",
    "try:\n",
    "    process = subprocess.Popen(\n",
    "    [\n",
    "        \"python\",\n",
    "        \"-m\", \"muskit.ComandMain\",\n",
    "        \"Execute\",\n",
    "        config,\n",
    "        inputs,\n",
    "        testcases,\n",
    "        savePath\n",
    "    ], stdout=subprocess.PIPE, stderr=subprocess.PIPE, text=True)\n",
    "    stdout, stderr = process.communicate()\n",
    "    if stderr:\n",
    "        print(\"Errors:\", stderr)\n",
    "except Exception as e:\n",
    "    print(f\"Error: {e}\")"
   ]
  },
  {
   "cell_type": "markdown",
   "metadata": {},
   "source": [
    "### Store bugless entropies in a list"
   ]
  },
  {
   "cell_type": "code",
   "execution_count": 12,
   "metadata": {},
   "outputs": [
    {
     "name": "stdout",
     "output_type": "stream",
     "text": [
      "Bugless shallow entropies:  [0.0, 0.0, 1.0102, 0.0, 0.0, 0.0, 1.7899, 0.3915, 0.0, 0.299]\n",
      "Bugless deep entropies:  [1.5945, 2.3714, 2.8508, 2.9943, 0.9995, 2.88, 2.9805, 0.9983, 0.0, 2.416]\n"
     ]
    }
   ],
   "source": [
    "# Read the content of the file\n",
    "with open(r'Entropies\\shallow\\shallow.txt', 'r') as file:\n",
    "    content = file.read().strip()\n",
    "\n",
    "# Extract values and convert to float\n",
    "shallow_entropies = [float(x) for x in content.split(',') if x]\n",
    "\n",
    "with open(r'Entropies\\deep\\deep.txt', 'r') as file:\n",
    "    content = file.read().strip()\n",
    "\n",
    "# Extract values and convert to float\n",
    "deep_entropies = [float(x) for x in content.split(',') if x]\n",
    "\n",
    "print(\"Bugless shallow entropies: \",shallow_entropies)\n",
    "print(\"Bugless deep entropies: \",deep_entropies)"
   ]
  },
  {
   "cell_type": "markdown",
   "metadata": {},
   "source": [
    "### Create mutants of testcases and Store in \"Mutants\" directory"
   ]
  },
  {
   "cell_type": "code",
   "execution_count": null,
   "metadata": {},
   "outputs": [],
   "source": [
    "config = r\"muskit\\generatorConfig.py\"\n",
    "\n",
    "os.makedirs(r\"Mutants\\shallow\", exist_ok=True)\n",
    "testcases_dir = r\"Testcases\\shallow\"\n",
    "mutants_dir = r\"Mutants\\shallow\"\n",
    "\n",
    "for file in os.listdir(testcases_dir):\n",
    "    if file.endswith(\".py\"):\n",
    "        name = os.path.splitext(file)[0]\n",
    "        try:\n",
    "            process = subprocess.Popen([\n",
    "            \"python\",\n",
    "            \"-m\", \"muskit.ComandMain\",\n",
    "            \"Create\",\n",
    "            config,\n",
    "            os.path.join(testcases_dir, file),\n",
    "            os.path.join(mutants_dir, f\"mutants_of_{name}\")\n",
    "            ], stdout=subprocess.PIPE, stderr=subprocess.PIPE, text=True)\n",
    "            stdout, stderr = process.communicate()\n",
    "            if stderr:\n",
    "                print(\"Errors:\", stderr)\n",
    "        except Exception as e:\n",
    "            print(f\"Error processing file {file}: {e}\")\n"
   ]
  },
  {
   "cell_type": "code",
   "execution_count": null,
   "metadata": {},
   "outputs": [],
   "source": [
    "os.makedirs(r\"Mutants\\deep\", exist_ok=True)\n",
    "testcases_dir = r\"Testcases\\deep\"\n",
    "mutants_dir = r\"Mutants\\deep\"\n",
    "\n",
    "for file in os.listdir(testcases_dir):\n",
    "    if file.endswith(\".py\"):\n",
    "        name = os.path.splitext(file)[0]\n",
    "        try:\n",
    "            process = subprocess.Popen([\n",
    "            \"python\",\n",
    "            \"-m\", \"muskit.ComandMain\",\n",
    "            \"Create\",\n",
    "            config,\n",
    "            os.path.join(testcases_dir, file),\n",
    "            os.path.join(mutants_dir, f\"mutants_of_{name}\")\n",
    "            ], stdout=subprocess.PIPE, stderr=subprocess.PIPE, text=True)\n",
    "            stdout, stderr = process.communicate()\n",
    "            if stderr:\n",
    "                print(\"Errors:\", stderr)\n",
    "        except Exception as e:\n",
    "            print(f\"Error processing file {file}: {e}\")"
   ]
  },
  {
   "cell_type": "markdown",
   "metadata": {},
   "source": [
    "### Calculate entropies of mutants and Store in \"Entropies\" directory"
   ]
  },
  {
   "cell_type": "code",
   "execution_count": null,
   "metadata": {},
   "outputs": [
    {
     "name": "stderr",
     "output_type": "stream",
     "text": [
      "Processing all mutants for each shallow circuit: 100%|██████████| 10/10 [55:29<00:00, 332.95s/it]\n"
     ]
    }
   ],
   "source": [
    "config = r\"muskit\\executorConfig.py\"\n",
    "inputs = r\"muskit\\testcases.py\"\n",
    "\n",
    "mutants_dir = r\"Mutants\\shallow\"\n",
    "for file in tqdm(os.listdir(mutants_dir), desc=\"Processing all mutants for each shallow circuit\"):\n",
    "    name = file[len(\"mutants_of_\"):]\n",
    "    savePath = rf\"Entropies\\shallow\\{name}.txt\"\n",
    "    try:\n",
    "        process = subprocess.Popen([\n",
    "            \"python\",\n",
    "            \"-m\", \"muskit.ComandMain\",\n",
    "            \"Execute\",\n",
    "            config,\n",
    "            inputs,\n",
    "            os.path.join(mutants_dir, file),\n",
    "            savePath\n",
    "        ], stdout=subprocess.PIPE, stderr=subprocess.PIPE, text=True)\n",
    "        stdout, stderr = process.communicate()\n",
    "        if stderr:\n",
    "            print(\"Errors:\", stderr)\n",
    "    except Exception as e:\n",
    "        print(f\"Error processing file {file}: {e}\")"
   ]
  },
  {
   "cell_type": "code",
   "execution_count": null,
   "metadata": {},
   "outputs": [
    {
     "name": "stderr",
     "output_type": "stream",
     "text": [
      "Processing all mutants for each deep circuit: 100%|██████████| 10/10 [4:05:14<00:00, 1471.48s/it] \n"
     ]
    }
   ],
   "source": [
    "mutants_dir = r\"Mutants\\deep\"\n",
    "for file in tqdm(os.listdir(mutants_dir), desc=\"Processing all mutants for each deep circuit\"):\n",
    "    name = file[len(\"mutants_of_\"):]\n",
    "    savePath = rf\"Entropies\\deep\\{name}.txt\"\n",
    "    try:\n",
    "        process = subprocess.Popen([\n",
    "            \"python\",\n",
    "            \"-m\", \"muskit.ComandMain\",\n",
    "            \"Execute\",\n",
    "            config,\n",
    "            inputs,\n",
    "            os.path.join(mutants_dir, file),\n",
    "            savePath\n",
    "        ], stdout=subprocess.PIPE, stderr=subprocess.PIPE, text=True)\n",
    "        stdout, stderr = process.communicate()\n",
    "        if stderr:\n",
    "            print(\"Errors:\", stderr)\n",
    "    except Exception as e:\n",
    "        print(f\"Error processing file {file}: {e}\")"
   ]
  },
  {
   "cell_type": "markdown",
   "metadata": {},
   "source": [
    "### Plot probability ditribution curves on the Entropies of mutants for each testcase and Store in \"Distributions\" directory"
   ]
  },
  {
   "cell_type": "code",
   "execution_count": null,
   "metadata": {},
   "outputs": [],
   "source": [
    "plt.rcParams.update({'font.size': 14})"
   ]
  },
  {
   "cell_type": "code",
   "execution_count": 22,
   "metadata": {},
   "outputs": [],
   "source": [
    "figure_dir = r\"Distributions\\deep\"\n",
    "os.makedirs(figure_dir, exist_ok=True)\n",
    "\n",
    "entropy_dir = r\"Entropies\\deep\"\n",
    "# List all files in the Entropies directory\n",
    "entropy_files = os.listdir(entropy_dir)\n",
    "\n",
    "# Iterate through each file and draw distribution charts\n",
    "i=0\n",
    "for file in entropy_files:\n",
    "    if file.endswith('.txt') and file != \"deep.txt\":  # Process only .txt files, except the testcase entropies\n",
    "        # Read the values from the file\n",
    "        with open(os.path.join(entropy_dir, file), 'r') as f:\n",
    "            # Split by comma and filter out empty strings before converting to float\n",
    "            values = [float(x) for x in f.read().strip().split(',') if x]\n",
    "\n",
    "        # Calculate mean and variance\n",
    "        mean = np.mean(values)\n",
    "        variance = np.var(values)\n",
    "\n",
    "        # Create a smooth curve using KDE\n",
    "        kde = stats.gaussian_kde(values)\n",
    "        x_range = np.linspace(min(values), max(values), 1000)\n",
    "        y_kde = kde(x_range)\n",
    "\n",
    "        # Draw the distribution chart\n",
    "        plt.figure(figsize=(10, 6))\n",
    "        plt.plot(x_range, y_kde, 'b-', linewidth=2)\n",
    "        plt.fill_between(x_range, y_kde, alpha=0.3)\n",
    "        plt.axvline(mean, color='r', linestyle='--', label=f'Mean: {mean:.4f}')\n",
    "        plt.axvline(mean + np.sqrt(variance), color='g', linestyle=':', label=f'Std Dev: {np.sqrt(variance):.4f}')\n",
    "        plt.axvline(mean - np.sqrt(variance), color='g', linestyle=':')\n",
    "        plt.axvline(deep_entropies[i], color='black', linestyle='-', label=f\"Entropy without bugs: {deep_entropies[i]}\")\n",
    "        i+=1\n",
    "        plt.title(f'Distribution of Entropies')\n",
    "        plt.xlabel('Entropy Values')\n",
    "        plt.ylabel('Density')\n",
    "        plt.legend(fontsize=14, loc='upper left')\n",
    "        plt.grid(True, alpha=0.3)\n",
    "\n",
    "        # Save the chart as an image\n",
    "        plt.savefig(os.path.join(figure_dir, f'distribution_{file[:-4]}.png'))\n",
    "        plt.close()"
   ]
  },
  {
   "cell_type": "code",
   "execution_count": 23,
   "metadata": {},
   "outputs": [],
   "source": [
    "figure_dir = r\"Distributions\\shallow\"\n",
    "os.makedirs(figure_dir, exist_ok=True)\n",
    "\n",
    "entropy_dir = r\"Entropies\\shallow\"\n",
    "# List all files in the Entropies directory\n",
    "entropy_files = os.listdir(entropy_dir)\n",
    "\n",
    "# Iterate through each file and draw distribution charts\n",
    "i=0\n",
    "for file in entropy_files:\n",
    "    if file.endswith('.txt') and file != \"shallow.txt\":  # Process only .txt files, except the testcase entropies\n",
    "        # Read the values from the file\n",
    "        with open(os.path.join(entropy_dir, file), 'r') as f:\n",
    "            # Split by comma and filter out empty strings before converting to float\n",
    "            values = [float(x) for x in f.read().strip().split(',') if x]\n",
    "\n",
    "        # Calculate mean and variance\n",
    "        mean = np.mean(values)\n",
    "        variance = np.var(values)\n",
    "\n",
    "        # Create a smooth curve using KDE\n",
    "        kde = stats.gaussian_kde(values)\n",
    "        x_range = np.linspace(min(values), max(values), 1000)\n",
    "        y_kde = kde(x_range)\n",
    "\n",
    "        # Draw the distribution chart\n",
    "        plt.figure(figsize=(10, 6))\n",
    "        plt.plot(x_range, y_kde, 'b-', linewidth=2)\n",
    "        plt.fill_between(x_range, y_kde, alpha=0.3)\n",
    "        plt.axvline(mean, color='r', linestyle='--', label=f'Mean: {mean:.4f}')\n",
    "        plt.axvline(mean + np.sqrt(variance), color='g', linestyle=':', label=f'Std Dev: {np.sqrt(variance):.4f}')\n",
    "        plt.axvline(mean - np.sqrt(variance), color='g', linestyle=':')\n",
    "        plt.axvline(shallow_entropies[i], color='black', linestyle='-', label=f\"Entropy without bugs: {shallow_entropies[i]}\")\n",
    "        i+=1\n",
    "        plt.title(f'Distribution of Entropies')\n",
    "        plt.xlabel('Entropy Values')\n",
    "        plt.ylabel('Density')\n",
    "        plt.legend(fontsize=14, loc='upper left')\n",
    "        plt.grid(True, alpha=0.3)\n",
    "\n",
    "        # Save the chart as an image\n",
    "        plt.savefig(os.path.join(figure_dir, f'distribution_{file[:-4]}.png'))\n",
    "        plt.close()"
   ]
  },
  {
   "cell_type": "markdown",
   "metadata": {},
   "source": [
    "# Experiments with Quantum Algorithms"
   ]
  },
  {
   "cell_type": "markdown",
   "metadata": {},
   "source": [
    "#### Function to convert a quantum circuit into a python file containing a circuit that is usable by muskit"
   ]
  },
  {
   "cell_type": "code",
   "execution_count": null,
   "metadata": {},
   "outputs": [],
   "source": [
    "from qiskit import transpile\n",
    "\n",
    "def quantum_circuit_to_py(qc, output_file):\n",
    "    # Define allowed gates and their Qiskit names\n",
    "    allowed_gates = {\n",
    "        \"x\", \"h\", \"p\", \"t\", \"s\", \"z\", \"y\", \"id\",\n",
    "        \"rx\", \"ry\", \"rz\", \"sx\", \"swap\", \"rzz\", \n",
    "        \"rxx\", \"cx\", \"cz\", \"ccx\", \"cswap\"\n",
    "    }\n",
    "\n",
    "    # Transpile circuit to use only allowed gates\n",
    "    qc = transpile(\n",
    "        qc,\n",
    "        basis_gates=list(allowed_gates),\n",
    "        optimization_level=3  # Aggressive optimization\n",
    "    )\n",
    "\n",
    "    with open(output_file, 'w') as f:\n",
    "        f.write(\"import math\\n\")\n",
    "        f.write(\"from qiskit import *\\n\\n\")\n",
    "        \n",
    "        f.write(f\"q = QuantumRegister({qc.num_qubits}, 'q')\\n\")\n",
    "        f.write(f\"c = ClassicalRegister({qc.num_clbits}, 'c')\\n\")\n",
    "        f.write(f\"qc = QuantumCircuit(q, c)\\n\\n\")\n",
    "\n",
    "        for instruction in qc.data:\n",
    "            gate = instruction.operation\n",
    "            qubits = instruction.qubits\n",
    "            \n",
    "            # Skip barrier and measurement operations\n",
    "            if gate.name in ['barrier', 'measure']:\n",
    "                continue\n",
    "                \n",
    "            # Handle parameterized gates\n",
    "            if hasattr(gate, 'params') and gate.params:\n",
    "                params = [f\"math.pi/{int(math.pi/float(p))}\" \n",
    "                         if p != 0 else \"0\" \n",
    "                         for p in gate.params]\n",
    "                param_str = \", \".join(params)\n",
    "            else:\n",
    "                param_str = \"\"\n",
    "\n",
    "            # Get qubit indices\n",
    "            qubit_indices = [f\"q[{qc.find_bit(q).index}]\" for q in qubits]\n",
    "            \n",
    "            # Write gate operation\n",
    "            if param_str:\n",
    "                f.write(f\"qc.{gate.name}({param_str}, {', '.join(qubit_indices)})\\n\")\n",
    "            else:\n",
    "                f.write(f\"qc.{gate.name}({', '.join(qubit_indices)})\\n\")\n"
   ]
  },
  {
   "cell_type": "markdown",
   "metadata": {},
   "source": [
    "#### Function to calculate entropy"
   ]
  },
  {
   "cell_type": "code",
   "execution_count": null,
   "metadata": {},
   "outputs": [],
   "source": [
    "from math import log2\n",
    "import numpy as np\n",
    "\n",
    "def calculate_entropy(output_map):\n",
    "    total_count = sum(output_map.values())\n",
    "\n",
    "    entropy = 0\n",
    "    for key, val in output_map.items():\n",
    "        if (val == 0):\n",
    "            continue\n",
    "        else:\n",
    "            p = val / total_count\n",
    "            entropy = entropy - p * log2(p)\n",
    "\n",
    "    return entropy"
   ]
  },
  {
   "cell_type": "markdown",
   "metadata": {},
   "source": [
    "### Grover's algorithm"
   ]
  },
  {
   "cell_type": "code",
   "execution_count": null,
   "metadata": {},
   "outputs": [],
   "source": [
    "# Built-in modules\n",
    "import math\n",
    "\n",
    "# Imports from Qiskit\n",
    "from qiskit import QuantumCircuit\n",
    "from qiskit.circuit.library import GroverOperator, MCMT, ZGate\n",
    "from qiskit.visualization import plot_distribution\n",
    "\n",
    "from qiskit_aer import AerSimulator\n",
    "from qiskit_aer.noise import NoiseModel, errors\n",
    "from qiskit.primitives import StatevectorSampler\n",
    "from qiskit import transpile\n",
    "from qiskit.transpiler.preset_passmanagers import generate_preset_pass_manager"
   ]
  },
  {
   "cell_type": "code",
   "execution_count": null,
   "metadata": {},
   "outputs": [],
   "source": [
    "def grover_oracle(marked_states):\n",
    "    \"\"\"Build a Grover oracle for multiple marked states\n",
    "\n",
    "    Here we assume all input marked states have the same number of bits\n",
    "\n",
    "    Parameters:\n",
    "        marked_states (str or list): Marked states of oracle\n",
    "\n",
    "    Returns:\n",
    "        QuantumCircuit: Quantum circuit representing Grover oracle\n",
    "    \"\"\"\n",
    "    if not isinstance(marked_states, list):\n",
    "        marked_states = [marked_states]\n",
    "    # Compute the number of qubits in circuit\n",
    "    num_qubits = len(marked_states[0])\n",
    "\n",
    "    qc = QuantumCircuit(num_qubits)\n",
    "    # Mark each target state in the input list\n",
    "    for target in marked_states:\n",
    "        # Flip target bit-string to match Qiskit bit-ordering\n",
    "        rev_target = target[::-1]\n",
    "        # Find the indices of all the '0' elements in bit-string\n",
    "        zero_inds = [ind for ind in range(num_qubits) if rev_target.startswith(\"0\", ind)]\n",
    "        # Add a multi-controlled Z-gate with pre- and post-applied X-gates (open-controls)\n",
    "        # where the target bit-string has a '0' entry\n",
    "        \n",
    "        qc.x(zero_inds)      # Line 1\n",
    "        qc.compose(MCMT(ZGate(), num_qubits - 1, 1), inplace=True)    # Line 2\n",
    "        qc.x(zero_inds)      # line 3\n",
    "    return qc\n",
    "\n",
    "def grover_search(marked_states, shots=100000, noise=None):\n",
    "    oracle = grover_oracle(marked_states)\n",
    "    grover_op = GroverOperator(oracle)\n",
    "\n",
    "    optimal_num_iterations = math.floor(\n",
    "    math.pi / (4 * math.asin(math.sqrt(len(marked_states) / 2**grover_op.num_qubits)))\n",
    "    )\n",
    "    \n",
    "    qc = QuantumCircuit(grover_op.num_qubits)\n",
    "    # Create even superposition of all basis states\n",
    "    qc.h(range(grover_op.num_qubits))\n",
    "    # Apply Grover operator the optimal number of times\n",
    "    qc.compose(grover_op.power(optimal_num_iterations), inplace=True)\n",
    "    # Measure all qubits\n",
    "    qc.x(2)  #bug\n",
    "    qc.measure_all()\n",
    "    # qc.draw(output=\"mpl\", style=\"iqp\")\n",
    "    \n",
    "    sampler = AerSimulator(method='statevector', noise_model=noise)\n",
    "    target = sampler.target\n",
    "    pm = generate_preset_pass_manager(target=target, optimization_level=3)\n",
    "\n",
    "    circuit_isa = pm.run(qc)\n",
    "    # circuit_isa.draw(output=\"mpl\", idle_wires=False, style=\"iqp\")\n",
    "    circuit_isa = circuit_isa.decompose(reps=10)\n",
    "    result = sampler.run(circuit_isa, shots=shots, memory=True).result()\n",
    "    return result.get_counts(), circuit_isa"
   ]
  },
  {
   "cell_type": "code",
   "execution_count": 7,
   "metadata": {},
   "outputs": [
    {
     "name": "stderr",
     "output_type": "stream",
     "text": [
      "C:\\Users\\devra\\AppData\\Local\\Temp\\ipykernel_39748\\69985639.py:28: DeprecationWarning: The class ``qiskit.circuit.library.generalized_gates.mcmt.MCMT`` is deprecated as of qiskit 1.4. It will be removed no earlier than 3 months after the release date. Use MCMTGate instead.\n",
      "  qc.compose(MCMT(ZGate(), num_qubits - 1, 1), inplace=True)    # Line 2\n"
     ]
    },
    {
     "name": "stdout",
     "output_type": "stream",
     "text": [
      "{'101': 4937, '100': 5063}\n"
     ]
    }
   ],
   "source": [
    "result, circuit = grover_search(['000', '001'], shots=10000, noise=None)\n",
    "print(result)"
   ]
  },
  {
   "cell_type": "markdown",
   "metadata": {},
   "source": [
    "#### Entropy without bugs"
   ]
  },
  {
   "cell_type": "code",
   "execution_count": null,
   "metadata": {},
   "outputs": [
    {
     "name": "stdout",
     "output_type": "stream",
     "text": [
      "0.9998854758372326\n"
     ]
    }
   ],
   "source": [
    "grovers_entropy = calculate_entropy(result)\n",
    "print(grovers_entropy)"
   ]
  },
  {
   "cell_type": "code",
   "execution_count": null,
   "metadata": {},
   "outputs": [],
   "source": [
    "os.makedirs(\"Algos\", exist_ok=True)\n",
    "quantum_circuit_to_py(circuit, r\"Algos\\grovers.py\")  # circuit stored in Algos\\grovers.py"
   ]
  },
  {
   "cell_type": "markdown",
   "metadata": {},
   "source": [
    "Creating mutants of grover's circuit"
   ]
  },
  {
   "cell_type": "code",
   "execution_count": null,
   "metadata": {},
   "outputs": [],
   "source": [
    "config = r\"muskit\\generatorConfig.py\"\n",
    "\n",
    "testcases_dir = r\"Algos\"\n",
    "mutants_dir = r\"Mutants\\Algos\"\n",
    "os.makedirs(mutants_dir, exist_ok=True)\n",
    "\n",
    "for file in os.listdir(testcases_dir):\n",
    "    if file.endswith(\".py\"):\n",
    "        name = os.path.splitext(file)[0]\n",
    "        try:\n",
    "            process = subprocess.Popen([\n",
    "                \"python\",\n",
    "                \"-m\", \"muskit.ComandMain\",\n",
    "                \"Create\",\n",
    "                config,\n",
    "                os.path.join(testcases_dir, file),\n",
    "                os.path.join(mutants_dir, f\"mutants_of_{name}\")\n",
    "            ], stdout=subprocess.PIPE, stderr=subprocess.PIPE, text=True)\n",
    "            stdout, stderr = process.communicate()\n",
    "            if stderr:\n",
    "                print(\"Errors:\", stderr)\n",
    "        except Exception as e:\n",
    "            print(f\"Error processing file {file}: {e}\")\n"
   ]
  },
  {
   "cell_type": "markdown",
   "metadata": {},
   "source": [
    "Calculating entropies of grover's mutants"
   ]
  },
  {
   "cell_type": "code",
   "execution_count": null,
   "metadata": {},
   "outputs": [],
   "source": [
    "config = r\"muskit\\executorConfig.py\"\n",
    "inputs = r\"muskit\\testcases.py\"\n",
    "\n",
    "os.makedirs(r\"Entropies\\Algos\", exist_ok=True)\n",
    "\n",
    "mutants_dir = r\"Mutants\\Algos\"\n",
    "for file in os.listdir(mutants_dir):\n",
    "    name = file[len(\"mutants_of_\"):]\n",
    "    savePath = rf\"Entropies\\Algos\\{name}.txt\"\n",
    "    try:\n",
    "        process = subprocess.Popen([\n",
    "            \"python\",\n",
    "            \"-m\", \"muskit.ComandMain\",\n",
    "            \"Execute\",\n",
    "            config,\n",
    "            inputs,\n",
    "            os.path.join(mutants_dir, file),\n",
    "            savePath\n",
    "        ], stdout=subprocess.PIPE, stderr=subprocess.PIPE, text=True)\n",
    "        stdout, stderr = process.communicate()\n",
    "        if stderr:\n",
    "            print(\"Errors:\", stderr)\n",
    "    except Exception as e:\n",
    "        print(f\"Error processing file {file}: {e}\")"
   ]
  },
  {
   "cell_type": "markdown",
   "metadata": {},
   "source": [
    "Storing the distributions in Distributions\\Algos"
   ]
  },
  {
   "cell_type": "code",
   "execution_count": null,
   "metadata": {},
   "outputs": [],
   "source": [
    "figure_dir = r\"Distributions\\Algos\"\n",
    "os.makedirs(figure_dir, exist_ok=True)\n",
    "\n",
    "entropy_dir = r\"Entropies\\Algos\"\n",
    "# List all files in the Entropies directory\n",
    "entropy_files = os.listdir(entropy_dir)\n",
    "\n",
    "# Iterate through each file and draw distribution charts\n",
    "i=0\n",
    "for file in entropy_files:\n",
    "    if file.endswith('.txt') and file != \"deep.txt\":  # Process only .txt files, except the testcase entropies\n",
    "        # Read the values from the file\n",
    "        with open(os.path.join(entropy_dir, file), 'r') as f:\n",
    "            # Split by comma and filter out empty strings before converting to float\n",
    "            values = [float(x) for x in f.read().strip().split(',') if x]\n",
    "\n",
    "        # Calculate mean and variance\n",
    "        mean = np.mean(values)\n",
    "        variance = np.var(values)\n",
    "\n",
    "        # Create a smooth curve using KDE\n",
    "        kde = stats.gaussian_kde(values)\n",
    "        x_range = np.linspace(min(values), max(values), 1000)\n",
    "        y_kde = kde(x_range)\n",
    "\n",
    "        # Draw the distribution chart\n",
    "        plt.figure(figsize=(10, 6))\n",
    "        plt.plot(x_range, y_kde, 'b-', linewidth=2)\n",
    "        plt.fill_between(x_range, y_kde, alpha=0.3)\n",
    "        plt.axvline(mean, color='r', linestyle='--', label=f'Mean: {mean:.4f}')\n",
    "        plt.axvline(mean + np.sqrt(variance), color='g', linestyle=':', label=f'Std Dev: {np.sqrt(variance):.4f}')\n",
    "        plt.axvline(mean - np.sqrt(variance), color='g', linestyle=':')\n",
    "        plt.axvline(grovers_entropy, color='black', linestyle='-', label=f\"Entropy without bugs: {entropy:.4f}\")\n",
    "        i+=1\n",
    "        plt.title(f'Distribution of Entropies')\n",
    "        plt.xlabel('Entropy Values')\n",
    "        plt.ylabel('Density')\n",
    "        plt.legend(fontsize=15)\n",
    "        plt.grid(True, alpha=0.3)\n",
    "\n",
    "        # Save the chart as an image\n",
    "        plt.savefig(os.path.join(figure_dir, f'distribution_{file[:-4]}.png'))\n",
    "        plt.close()"
   ]
  }
 ],
 "metadata": {
  "kernelspec": {
   "display_name": "qtm",
   "language": "python",
   "name": "python3"
  },
  "language_info": {
   "codemirror_mode": {
    "name": "ipython",
    "version": 3
   },
   "file_extension": ".py",
   "mimetype": "text/x-python",
   "name": "python",
   "nbconvert_exporter": "python",
   "pygments_lexer": "ipython3",
   "version": "3.12.0"
  }
 },
 "nbformat": 4,
 "nbformat_minor": 2
}
